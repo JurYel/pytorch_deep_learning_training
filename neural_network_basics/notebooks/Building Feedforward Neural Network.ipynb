{
 "cells": [
  {
   "cell_type": "code",
   "execution_count": 12,
   "id": "02457b02",
   "metadata": {},
   "outputs": [
    {
     "data": {
      "text/plain": [
       "array([1, 1, 0, 0, 1, 0, 1, 0, 0, 0, 0, 0, 1, 0, 0, 0, 1, 1, 0, 1, 0, 0,\n",
       "       0, 0, 0, 1, 1, 1, 0, 0, 0, 1, 0, 0, 1, 0, 0, 1, 0, 0, 1, 0, 0, 1,\n",
       "       1, 0, 1, 1, 0, 0, 0, 0, 1, 1, 0, 0, 1, 1, 0, 1, 1, 0, 0, 1, 0, 0,\n",
       "       0, 1, 1, 1, 1, 0, 0, 1, 0, 1, 0, 1, 1, 0, 1, 1, 0, 0, 0, 0, 0, 0,\n",
       "       1, 1, 0, 1, 0, 1, 0, 0, 1, 0, 1, 1])"
      ]
     },
     "execution_count": 12,
     "metadata": {},
     "output_type": "execute_result"
    }
   ],
   "source": [
    "import torch\n",
    "import torch.nn as nn\n",
    "import torch.optim as optim\n",
    "import numpy as np\n",
    "\n",
    "# Generate 100 random data points\n",
    "np.random.seed(42)\n",
    "X = np.random.rand(100, 2)\n",
    "\n",
    "# Define the labels based on a simple classification rule\n",
    "y = (X[:, 0] + X[:, 1] > 1).astype(int)\n",
    "\n",
    "y"
   ]
  },
  {
   "cell_type": "code",
   "execution_count": 39,
   "id": "13d2385c",
   "metadata": {},
   "outputs": [
    {
     "data": {
      "text/plain": [
       "1.3252544252572787"
      ]
     },
     "execution_count": 39,
     "metadata": {},
     "output_type": "execute_result"
    }
   ],
   "source": [
    "X[0, 0] + X[0, 1]"
   ]
  },
  {
   "cell_type": "markdown",
   "id": "b770b8ba",
   "metadata": {},
   "source": [
    "**Build Binary Classifier**"
   ]
  },
  {
   "cell_type": "code",
   "execution_count": 17,
   "id": "05460166",
   "metadata": {},
   "outputs": [],
   "source": [
    "class BinaryClassifier(nn.Module):\n",
    "    def __init__(self, input_size, hidden_size, output_size):\n",
    "        super(BinaryClassifier, self).__init__()\n",
    "        self.fc1 = nn.Linear(input_size, hidden_size)\n",
    "        self.fc2 = nn.Linear(hidden_size, hidden_size)\n",
    "        self.relu = nn.ReLU()\n",
    "        self.fc_out = nn.Linear(hidden_size, output_size)\n",
    "        self.sigmoid = nn.Sigmoid()\n",
    "        \n",
    "    def forward(self, x):\n",
    "        out = self.fc1(x)\n",
    "        out = self.fc2(out)\n",
    "        out = self.relu(out)\n",
    "        out = self.fc_out(out)\n",
    "        out = self.sigmoid(out)\n",
    "        \n",
    "        return out"
   ]
  },
  {
   "cell_type": "markdown",
   "id": "eb9bf9ae",
   "metadata": {},
   "source": [
    "**Instantiate Binary Classifier**"
   ]
  },
  {
   "cell_type": "code",
   "execution_count": 20,
   "id": "1bc62982",
   "metadata": {},
   "outputs": [
    {
     "data": {
      "text/plain": [
       "tensor([[0.4077],\n",
       "        [0.3956],\n",
       "        [0.4028],\n",
       "        [0.4137],\n",
       "        [0.3998]], grad_fn=<SliceBackward0>)"
      ]
     },
     "execution_count": 20,
     "metadata": {},
     "output_type": "execute_result"
    }
   ],
   "source": [
    "model = BinaryClassifier(input_size=2, hidden_size=5, output_size=1)\n",
    "preds = model(torch.Tensor(X))\n",
    "preds[:5]"
   ]
  },
  {
   "cell_type": "code",
   "execution_count": 21,
   "id": "6383417a",
   "metadata": {},
   "outputs": [],
   "source": [
    "criterion = nn.BCELoss()\n",
    "optimizer = torch.optim.SGD(model.parameters(), lr=0.1)"
   ]
  },
  {
   "cell_type": "code",
   "execution_count": 32,
   "id": "a441d477",
   "metadata": {},
   "outputs": [],
   "source": [
    "def binary_accuracy(preds, y):\n",
    "    \"\"\" \n",
    "        Returns accruacy per batch i.e. \n",
    "        if you get 8/10 right, this returns 0.8\n",
    "    \"\"\"\n",
    "    \n",
    "    # round predictions to the closest integer\n",
    "    rounded_preds = torch.round(torch.sigmoid(preds))\n",
    "    correct = (rounded_preds == y).float()\n",
    "    acc = correct.sum() / len(correct)\n",
    "    return acc"
   ]
  },
  {
   "cell_type": "code",
   "execution_count": 41,
   "id": "d461c90d",
   "metadata": {},
   "outputs": [
    {
     "data": {
      "text/plain": [
       "array([1, 1, 0, 0, 1, 0, 1, 0, 0, 0, 0, 0, 1, 0, 0, 0, 1, 1, 0, 1, 0, 0,\n",
       "       0, 0, 0, 1, 1, 1, 0, 0, 0, 1, 0, 0, 1, 0, 0, 1, 0, 0, 1, 0, 0, 1,\n",
       "       1, 0, 1, 1, 0, 0, 0, 0, 1, 1, 0, 0, 1, 1, 0, 1, 1, 0, 0, 1, 0, 0,\n",
       "       0, 1, 1, 1, 1, 0, 0, 1, 0, 1, 0, 1, 1, 0, 1, 1, 0, 0, 0, 0, 0, 0,\n",
       "       1, 1, 0, 1, 0, 1, 0, 0, 1, 0, 1, 1])"
      ]
     },
     "execution_count": 41,
     "metadata": {},
     "output_type": "execute_result"
    }
   ],
   "source": [
    "y"
   ]
  },
  {
   "cell_type": "code",
   "execution_count": 35,
   "id": "3d70a449",
   "metadata": {},
   "outputs": [
    {
     "name": "stdout",
     "output_type": "stream",
     "text": [
      "Epoch [10/1000], Loss: 0.0223, Accuracy: 87.00%\n",
      "Epoch [20/1000], Loss: 0.0223, Accuracy: 87.00%\n",
      "Epoch [30/1000], Loss: 0.0223, Accuracy: 87.00%\n",
      "Epoch [40/1000], Loss: 0.0223, Accuracy: 87.00%\n",
      "Epoch [50/1000], Loss: 0.0223, Accuracy: 87.00%\n",
      "Epoch [60/1000], Loss: 0.0222, Accuracy: 87.00%\n",
      "Epoch [70/1000], Loss: 0.0222, Accuracy: 87.00%\n",
      "Epoch [80/1000], Loss: 0.0222, Accuracy: 87.00%\n",
      "Epoch [90/1000], Loss: 0.0222, Accuracy: 87.00%\n",
      "Epoch [100/1000], Loss: 0.0221, Accuracy: 87.00%\n",
      "Epoch [110/1000], Loss: 0.0221, Accuracy: 87.00%\n",
      "Epoch [120/1000], Loss: 0.0221, Accuracy: 87.00%\n",
      "Epoch [130/1000], Loss: 0.0221, Accuracy: 87.00%\n",
      "Epoch [140/1000], Loss: 0.0221, Accuracy: 87.00%\n",
      "Epoch [150/1000], Loss: 0.0220, Accuracy: 87.00%\n",
      "Epoch [160/1000], Loss: 0.0220, Accuracy: 87.00%\n",
      "Epoch [170/1000], Loss: 0.0220, Accuracy: 87.00%\n",
      "Epoch [180/1000], Loss: 0.0220, Accuracy: 87.00%\n",
      "Epoch [190/1000], Loss: 0.0219, Accuracy: 87.00%\n",
      "Epoch [200/1000], Loss: 0.0219, Accuracy: 87.00%\n",
      "Epoch [210/1000], Loss: 0.0219, Accuracy: 87.00%\n",
      "Epoch [220/1000], Loss: 0.0219, Accuracy: 87.00%\n",
      "Epoch [230/1000], Loss: 0.0219, Accuracy: 87.00%\n",
      "Epoch [240/1000], Loss: 0.0218, Accuracy: 87.00%\n",
      "Epoch [250/1000], Loss: 0.0218, Accuracy: 87.00%\n",
      "Epoch [260/1000], Loss: 0.0218, Accuracy: 87.00%\n",
      "Epoch [270/1000], Loss: 0.0218, Accuracy: 87.00%\n",
      "Epoch [280/1000], Loss: 0.0217, Accuracy: 87.00%\n",
      "Epoch [290/1000], Loss: 0.0217, Accuracy: 87.00%\n",
      "Epoch [300/1000], Loss: 0.0217, Accuracy: 87.00%\n",
      "Epoch [310/1000], Loss: 0.0217, Accuracy: 87.00%\n",
      "Epoch [320/1000], Loss: 0.0217, Accuracy: 87.00%\n",
      "Epoch [330/1000], Loss: 0.0216, Accuracy: 87.00%\n",
      "Epoch [340/1000], Loss: 0.0216, Accuracy: 87.00%\n",
      "Epoch [350/1000], Loss: 0.0216, Accuracy: 87.00%\n",
      "Epoch [360/1000], Loss: 0.0216, Accuracy: 87.00%\n",
      "Epoch [370/1000], Loss: 0.0216, Accuracy: 87.00%\n",
      "Epoch [380/1000], Loss: 0.0215, Accuracy: 87.00%\n",
      "Epoch [390/1000], Loss: 0.0215, Accuracy: 87.00%\n",
      "Epoch [400/1000], Loss: 0.0215, Accuracy: 87.00%\n",
      "Epoch [410/1000], Loss: 0.0215, Accuracy: 87.00%\n",
      "Epoch [420/1000], Loss: 0.0214, Accuracy: 87.00%\n",
      "Epoch [430/1000], Loss: 0.0214, Accuracy: 87.00%\n",
      "Epoch [440/1000], Loss: 0.0214, Accuracy: 87.00%\n",
      "Epoch [450/1000], Loss: 0.0214, Accuracy: 87.00%\n",
      "Epoch [460/1000], Loss: 0.0214, Accuracy: 87.00%\n",
      "Epoch [470/1000], Loss: 0.0213, Accuracy: 88.00%\n",
      "Epoch [480/1000], Loss: 0.0213, Accuracy: 88.00%\n",
      "Epoch [490/1000], Loss: 0.0213, Accuracy: 88.00%\n",
      "Epoch [500/1000], Loss: 0.0213, Accuracy: 88.00%\n",
      "Epoch [510/1000], Loss: 0.0213, Accuracy: 88.00%\n",
      "Epoch [520/1000], Loss: 0.0212, Accuracy: 88.00%\n",
      "Epoch [530/1000], Loss: 0.0212, Accuracy: 88.00%\n",
      "Epoch [540/1000], Loss: 0.0212, Accuracy: 88.00%\n",
      "Epoch [550/1000], Loss: 0.0212, Accuracy: 88.00%\n",
      "Epoch [560/1000], Loss: 0.0212, Accuracy: 88.00%\n",
      "Epoch [570/1000], Loss: 0.0211, Accuracy: 88.00%\n",
      "Epoch [580/1000], Loss: 0.0211, Accuracy: 88.00%\n",
      "Epoch [590/1000], Loss: 0.0211, Accuracy: 88.00%\n",
      "Epoch [600/1000], Loss: 0.0211, Accuracy: 88.00%\n",
      "Epoch [610/1000], Loss: 0.0211, Accuracy: 88.00%\n",
      "Epoch [620/1000], Loss: 0.0210, Accuracy: 88.00%\n",
      "Epoch [630/1000], Loss: 0.0210, Accuracy: 88.00%\n",
      "Epoch [640/1000], Loss: 0.0210, Accuracy: 88.00%\n",
      "Epoch [650/1000], Loss: 0.0210, Accuracy: 88.00%\n",
      "Epoch [660/1000], Loss: 0.0210, Accuracy: 88.00%\n",
      "Epoch [670/1000], Loss: 0.0209, Accuracy: 88.00%\n",
      "Epoch [680/1000], Loss: 0.0209, Accuracy: 88.00%\n",
      "Epoch [690/1000], Loss: 0.0209, Accuracy: 88.00%\n",
      "Epoch [700/1000], Loss: 0.0209, Accuracy: 88.00%\n",
      "Epoch [710/1000], Loss: 0.0209, Accuracy: 88.00%\n",
      "Epoch [720/1000], Loss: 0.0208, Accuracy: 88.00%\n",
      "Epoch [730/1000], Loss: 0.0208, Accuracy: 88.00%\n",
      "Epoch [740/1000], Loss: 0.0208, Accuracy: 88.00%\n",
      "Epoch [750/1000], Loss: 0.0208, Accuracy: 88.00%\n",
      "Epoch [760/1000], Loss: 0.0208, Accuracy: 88.00%\n",
      "Epoch [770/1000], Loss: 0.0207, Accuracy: 88.00%\n",
      "Epoch [780/1000], Loss: 0.0207, Accuracy: 88.00%\n",
      "Epoch [790/1000], Loss: 0.0207, Accuracy: 88.00%\n",
      "Epoch [800/1000], Loss: 0.0207, Accuracy: 88.00%\n",
      "Epoch [810/1000], Loss: 0.0207, Accuracy: 88.00%\n",
      "Epoch [820/1000], Loss: 0.0206, Accuracy: 88.00%\n",
      "Epoch [830/1000], Loss: 0.0206, Accuracy: 88.00%\n",
      "Epoch [840/1000], Loss: 0.0206, Accuracy: 88.00%\n",
      "Epoch [850/1000], Loss: 0.0206, Accuracy: 88.00%\n",
      "Epoch [860/1000], Loss: 0.0206, Accuracy: 88.00%\n",
      "Epoch [870/1000], Loss: 0.0206, Accuracy: 88.00%\n",
      "Epoch [880/1000], Loss: 0.0205, Accuracy: 88.00%\n",
      "Epoch [890/1000], Loss: 0.0205, Accuracy: 88.00%\n",
      "Epoch [900/1000], Loss: 0.0205, Accuracy: 88.00%\n",
      "Epoch [910/1000], Loss: 0.0205, Accuracy: 88.00%\n",
      "Epoch [920/1000], Loss: 0.0205, Accuracy: 88.00%\n",
      "Epoch [930/1000], Loss: 0.0204, Accuracy: 88.00%\n",
      "Epoch [940/1000], Loss: 0.0204, Accuracy: 88.00%\n",
      "Epoch [950/1000], Loss: 0.0204, Accuracy: 88.00%\n",
      "Epoch [960/1000], Loss: 0.0204, Accuracy: 88.00%\n",
      "Epoch [970/1000], Loss: 0.0204, Accuracy: 88.00%\n",
      "Epoch [980/1000], Loss: 0.0203, Accuracy: 88.00%\n",
      "Epoch [990/1000], Loss: 0.0203, Accuracy: 88.00%\n",
      "Epoch [1000/1000], Loss: 0.0203, Accuracy: 88.00%\n"
     ]
    }
   ],
   "source": [
    "epochs = 1000\n",
    "\n",
    "for epoch in range(epochs):\n",
    "    # Convert data to PyTorch tensors\n",
    "    inputs = torch.Tensor(X)\n",
    "    # reshapes labels from single row to single column\n",
    "    labels = torch.Tensor(y).reshape(-1, 1)\n",
    "    \n",
    "    # Forward pass\n",
    "    outputs = model(inputs)\n",
    "    loss = criterion(outputs, labels)\n",
    "    acc = binary_accuracy(outputs, labels)\n",
    "    \n",
    "    # Backward pass and optimization\n",
    "    optimizer.zero_grad()\n",
    "    loss.backward()\n",
    "    optimizer.step()\n",
    "    \n",
    "    # Print progress\n",
    "    if (epoch+1) % 10 == 0:\n",
    "        print(f\"Epoch [{epoch+1}/{epochs}], Loss: {loss.item():.4f}, Accuracy: {acc.item()*100:.2f}%\")"
   ]
  },
  {
   "cell_type": "code",
   "execution_count": 37,
   "id": "2da677a0",
   "metadata": {},
   "outputs": [
    {
     "name": "stdout",
     "output_type": "stream",
     "text": [
      "Predictions:  [1, 1, 0, 1, 1, 0, 1, 0, 1, 0]\n"
     ]
    }
   ],
   "source": [
    "# Generate new test data\n",
    "X_test = np.random.rand(10, 2)\n",
    "\n",
    "# Convert data to PyTorch tensor\n",
    "inputs = torch.Tensor(X_test)\n",
    "\n",
    "# Make predictions\n",
    "preds = model(inputs)\n",
    "preds = (preds > 0.5).int()\n",
    "\n",
    "print(\"Predictions: \", preds.squeeze().tolist())"
   ]
  },
  {
   "cell_type": "code",
   "execution_count": null,
   "id": "90c2a083",
   "metadata": {},
   "outputs": [],
   "source": []
  }
 ],
 "metadata": {
  "kernelspec": {
   "display_name": "tensor_env",
   "language": "python",
   "name": "tensor_env"
  },
  "language_info": {
   "codemirror_mode": {
    "name": "ipython",
    "version": 3
   },
   "file_extension": ".py",
   "mimetype": "text/x-python",
   "name": "python",
   "nbconvert_exporter": "python",
   "pygments_lexer": "ipython3",
   "version": "3.10.7"
  }
 },
 "nbformat": 4,
 "nbformat_minor": 5
}
