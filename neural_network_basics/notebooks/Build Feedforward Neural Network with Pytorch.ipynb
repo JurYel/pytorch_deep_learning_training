{
 "cells": [
  {
   "cell_type": "markdown",
   "id": "5f815cca",
   "metadata": {},
   "source": [
    "## #1 Import Libraries"
   ]
  },
  {
   "cell_type": "code",
   "execution_count": 1,
   "id": "a2b7cc75",
   "metadata": {},
   "outputs": [],
   "source": [
    "import torch\n",
    "import torch.nn as nn\n",
    "import torch.optim as optim\n",
    "import numpy as np"
   ]
  },
  {
   "cell_type": "markdown",
   "id": "4f05c838",
   "metadata": {},
   "source": [
    "## #2 Generate Dummy Data"
   ]
  },
  {
   "cell_type": "code",
   "execution_count": 2,
   "id": "09b6d903",
   "metadata": {},
   "outputs": [
    {
     "data": {
      "text/plain": [
       "array([1, 1, 0, 0, 1, 0, 1, 0, 0, 0, 0, 0, 1, 0, 0, 0, 1, 1, 0, 1, 0, 0,\n",
       "       0, 0, 0, 1, 1, 1, 0, 0, 0, 1, 0, 0, 1, 0, 0, 1, 0, 0, 1, 0, 0, 1,\n",
       "       1, 0, 1, 1, 0, 0, 0, 0, 1, 1, 0, 0, 1, 1, 0, 1, 1, 0, 0, 1, 0, 0,\n",
       "       0, 1, 1, 1, 1, 0, 0, 1, 0, 1, 0, 1, 1, 0, 1, 1, 0, 0, 0, 0, 0, 0,\n",
       "       1, 1, 0, 1, 0, 1, 0, 0, 1, 0, 1, 1])"
      ]
     },
     "execution_count": 2,
     "metadata": {},
     "output_type": "execute_result"
    }
   ],
   "source": [
    "# Generate 100 random data points\n",
    "np.random.seed(42) # for reproducity\n",
    "X = np.random.rand(100, 2)\n",
    "\n",
    "# Define the labels based on a simple classification rule\n",
    "y = (X[:,0] + X[:, 1] > 1).astype(int)\n",
    "\n",
    "y"
   ]
  },
  {
   "cell_type": "code",
   "execution_count": 4,
   "id": "bb9afc69",
   "metadata": {},
   "outputs": [
    {
     "data": {
      "text/plain": [
       "array([[0.37454012, 0.95071431],\n",
       "       [0.73199394, 0.59865848],\n",
       "       [0.15601864, 0.15599452],\n",
       "       [0.05808361, 0.86617615],\n",
       "       [0.60111501, 0.70807258],\n",
       "       [0.02058449, 0.96990985],\n",
       "       [0.83244264, 0.21233911],\n",
       "       [0.18182497, 0.18340451],\n",
       "       [0.30424224, 0.52475643],\n",
       "       [0.43194502, 0.29122914]])"
      ]
     },
     "execution_count": 4,
     "metadata": {},
     "output_type": "execute_result"
    }
   ],
   "source": [
    "X[:10]"
   ]
  },
  {
   "cell_type": "markdown",
   "id": "9f398c33",
   "metadata": {},
   "source": [
    "## #3 Build Binary Classifier"
   ]
  },
  {
   "cell_type": "code",
   "execution_count": 5,
   "id": "50cb45d4",
   "metadata": {},
   "outputs": [],
   "source": [
    "class BinaryClassifier(nn.Module):\n",
    "    def __init__(self, input_size, hidden_size, output_size):\n",
    "        super(BinaryClassifier, self).__init__()\n",
    "        self.fc1 = nn.Linear(input_size, hidden_size)\n",
    "        self.fc2 = nn.Linear(hidden_size, hidden_size)\n",
    "        self.relu = nn.ReLU()\n",
    "        self.fc_out = nn.Linear(hidden_size, output_size)\n",
    "        self.sigmoid = nn.Sigmoid()\n",
    "        \n",
    "    def forward(self, x):\n",
    "        out = self.fc1(x)\n",
    "        out = self.fc2(out)\n",
    "        out = self.relu(out)\n",
    "        out = self.fc_out(out)\n",
    "        out = self.sigmoid(out)\n",
    "        \n",
    "        return out"
   ]
  },
  {
   "cell_type": "markdown",
   "id": "e1a018aa",
   "metadata": {},
   "source": [
    "## #4 Instantiate Binary Classifier"
   ]
  },
  {
   "cell_type": "code",
   "execution_count": 69,
   "id": "2ddf2220",
   "metadata": {},
   "outputs": [
    {
     "data": {
      "text/plain": [
       "tensor([0.5164], grad_fn=<SelectBackward0>)"
      ]
     },
     "execution_count": 69,
     "metadata": {},
     "output_type": "execute_result"
    }
   ],
   "source": [
    "model = BinaryClassifier(input_size=2, hidden_size=5, output_size=1)\n",
    "preds = model(torch.Tensor(X))\n",
    "preds[0]"
   ]
  },
  {
   "cell_type": "markdown",
   "id": "93cf26ba",
   "metadata": {},
   "source": [
    "**Define Criterion and Optimizer**"
   ]
  },
  {
   "cell_type": "code",
   "execution_count": 70,
   "id": "afb0e975",
   "metadata": {},
   "outputs": [],
   "source": [
    "criterion = nn.BCELoss()\n",
    "optimizer = optim.SGD(model.parameters(), lr=0.1)"
   ]
  },
  {
   "cell_type": "markdown",
   "id": "caf78014",
   "metadata": {},
   "source": [
    "**Define accuracy function**"
   ]
  },
  {
   "cell_type": "code",
   "execution_count": 71,
   "id": "8ba7b93c",
   "metadata": {},
   "outputs": [],
   "source": [
    "def binary_accuracy(preds, y):\n",
    "    \"\"\" \n",
    "        Returns accruacy per batch i.e. \n",
    "        if you get 8/10 right, this returns 0.8\n",
    "    \"\"\"\n",
    "    \n",
    "    # round predictions to the closest integer\n",
    "    rounded_preds = torch.round(torch.sigmoid(preds))\n",
    "    correct = (rounded_preds == y).float()\n",
    "    acc = correct.sum() / len(correct)\n",
    "    return acc"
   ]
  },
  {
   "cell_type": "markdown",
   "id": "619894c4",
   "metadata": {},
   "source": [
    "## #5 Create training loop"
   ]
  },
  {
   "cell_type": "code",
   "execution_count": 73,
   "id": "0d20e4f5",
   "metadata": {},
   "outputs": [
    {
     "name": "stdout",
     "output_type": "stream",
     "text": [
      "Epoch [10/1000], Loss: 0.0454, Accuracy: 58.00%\n",
      "Epoch [20/1000], Loss: 0.0451, Accuracy: 58.00%\n",
      "Epoch [30/1000], Loss: 0.0449, Accuracy: 58.00%\n",
      "Epoch [40/1000], Loss: 0.0446, Accuracy: 58.00%\n",
      "Epoch [50/1000], Loss: 0.0443, Accuracy: 58.00%\n",
      "Epoch [60/1000], Loss: 0.0441, Accuracy: 58.00%\n",
      "Epoch [70/1000], Loss: 0.0438, Accuracy: 59.00%\n",
      "Epoch [80/1000], Loss: 0.0436, Accuracy: 60.00%\n",
      "Epoch [90/1000], Loss: 0.0433, Accuracy: 60.00%\n",
      "Epoch [100/1000], Loss: 0.0431, Accuracy: 60.00%\n",
      "Epoch [110/1000], Loss: 0.0429, Accuracy: 60.00%\n",
      "Epoch [120/1000], Loss: 0.0426, Accuracy: 60.00%\n",
      "Epoch [130/1000], Loss: 0.0424, Accuracy: 60.00%\n",
      "Epoch [140/1000], Loss: 0.0422, Accuracy: 60.00%\n",
      "Epoch [150/1000], Loss: 0.0420, Accuracy: 60.00%\n",
      "Epoch [160/1000], Loss: 0.0417, Accuracy: 60.00%\n",
      "Epoch [170/1000], Loss: 0.0415, Accuracy: 60.00%\n",
      "Epoch [180/1000], Loss: 0.0413, Accuracy: 60.00%\n",
      "Epoch [190/1000], Loss: 0.0411, Accuracy: 60.00%\n",
      "Epoch [200/1000], Loss: 0.0409, Accuracy: 60.00%\n",
      "Epoch [210/1000], Loss: 0.0407, Accuracy: 60.00%\n",
      "Epoch [220/1000], Loss: 0.0405, Accuracy: 60.00%\n",
      "Epoch [230/1000], Loss: 0.0403, Accuracy: 60.00%\n",
      "Epoch [240/1000], Loss: 0.0401, Accuracy: 60.00%\n",
      "Epoch [250/1000], Loss: 0.0399, Accuracy: 60.00%\n",
      "Epoch [260/1000], Loss: 0.0398, Accuracy: 60.00%\n",
      "Epoch [270/1000], Loss: 0.0396, Accuracy: 60.00%\n",
      "Epoch [280/1000], Loss: 0.0394, Accuracy: 60.00%\n",
      "Epoch [290/1000], Loss: 0.0392, Accuracy: 60.00%\n",
      "Epoch [300/1000], Loss: 0.0390, Accuracy: 60.00%\n",
      "Epoch [310/1000], Loss: 0.0389, Accuracy: 60.00%\n",
      "Epoch [320/1000], Loss: 0.0387, Accuracy: 60.00%\n",
      "Epoch [330/1000], Loss: 0.0385, Accuracy: 60.00%\n",
      "Epoch [340/1000], Loss: 0.0383, Accuracy: 60.00%\n",
      "Epoch [350/1000], Loss: 0.0382, Accuracy: 60.00%\n",
      "Epoch [360/1000], Loss: 0.0380, Accuracy: 60.00%\n",
      "Epoch [370/1000], Loss: 0.0379, Accuracy: 60.00%\n",
      "Epoch [380/1000], Loss: 0.0377, Accuracy: 60.00%\n",
      "Epoch [390/1000], Loss: 0.0375, Accuracy: 60.00%\n",
      "Epoch [400/1000], Loss: 0.0374, Accuracy: 60.00%\n",
      "Epoch [410/1000], Loss: 0.0372, Accuracy: 60.00%\n",
      "Epoch [420/1000], Loss: 0.0371, Accuracy: 61.00%\n",
      "Epoch [430/1000], Loss: 0.0369, Accuracy: 61.00%\n",
      "Epoch [440/1000], Loss: 0.0368, Accuracy: 61.00%\n",
      "Epoch [450/1000], Loss: 0.0366, Accuracy: 61.00%\n",
      "Epoch [460/1000], Loss: 0.0365, Accuracy: 61.00%\n",
      "Epoch [470/1000], Loss: 0.0364, Accuracy: 61.00%\n",
      "Epoch [480/1000], Loss: 0.0362, Accuracy: 62.00%\n",
      "Epoch [490/1000], Loss: 0.0361, Accuracy: 62.00%\n",
      "Epoch [500/1000], Loss: 0.0359, Accuracy: 63.00%\n",
      "Epoch [510/1000], Loss: 0.0358, Accuracy: 63.00%\n",
      "Epoch [520/1000], Loss: 0.0357, Accuracy: 64.00%\n",
      "Epoch [530/1000], Loss: 0.0355, Accuracy: 64.00%\n",
      "Epoch [540/1000], Loss: 0.0354, Accuracy: 66.00%\n",
      "Epoch [550/1000], Loss: 0.0353, Accuracy: 66.00%\n",
      "Epoch [560/1000], Loss: 0.0352, Accuracy: 66.00%\n",
      "Epoch [570/1000], Loss: 0.0350, Accuracy: 66.00%\n",
      "Epoch [580/1000], Loss: 0.0349, Accuracy: 66.00%\n",
      "Epoch [590/1000], Loss: 0.0348, Accuracy: 66.00%\n",
      "Epoch [600/1000], Loss: 0.0347, Accuracy: 66.00%\n",
      "Epoch [610/1000], Loss: 0.0345, Accuracy: 67.00%\n",
      "Epoch [620/1000], Loss: 0.0344, Accuracy: 67.00%\n",
      "Epoch [630/1000], Loss: 0.0343, Accuracy: 67.00%\n",
      "Epoch [640/1000], Loss: 0.0342, Accuracy: 68.00%\n",
      "Epoch [650/1000], Loss: 0.0341, Accuracy: 69.00%\n",
      "Epoch [660/1000], Loss: 0.0340, Accuracy: 69.00%\n",
      "Epoch [670/1000], Loss: 0.0338, Accuracy: 69.00%\n",
      "Epoch [680/1000], Loss: 0.0337, Accuracy: 69.00%\n",
      "Epoch [690/1000], Loss: 0.0336, Accuracy: 70.00%\n",
      "Epoch [700/1000], Loss: 0.0335, Accuracy: 70.00%\n",
      "Epoch [710/1000], Loss: 0.0334, Accuracy: 70.00%\n",
      "Epoch [720/1000], Loss: 0.0333, Accuracy: 70.00%\n",
      "Epoch [730/1000], Loss: 0.0332, Accuracy: 70.00%\n",
      "Epoch [740/1000], Loss: 0.0331, Accuracy: 70.00%\n",
      "Epoch [750/1000], Loss: 0.0330, Accuracy: 70.00%\n",
      "Epoch [760/1000], Loss: 0.0329, Accuracy: 70.00%\n",
      "Epoch [770/1000], Loss: 0.0328, Accuracy: 70.00%\n",
      "Epoch [780/1000], Loss: 0.0327, Accuracy: 70.00%\n",
      "Epoch [790/1000], Loss: 0.0326, Accuracy: 70.00%\n",
      "Epoch [800/1000], Loss: 0.0325, Accuracy: 70.00%\n",
      "Epoch [810/1000], Loss: 0.0324, Accuracy: 70.00%\n",
      "Epoch [820/1000], Loss: 0.0323, Accuracy: 70.00%\n",
      "Epoch [830/1000], Loss: 0.0322, Accuracy: 70.00%\n",
      "Epoch [840/1000], Loss: 0.0321, Accuracy: 70.00%\n",
      "Epoch [850/1000], Loss: 0.0320, Accuracy: 71.00%\n",
      "Epoch [860/1000], Loss: 0.0319, Accuracy: 71.00%\n",
      "Epoch [870/1000], Loss: 0.0318, Accuracy: 71.00%\n",
      "Epoch [880/1000], Loss: 0.0317, Accuracy: 71.00%\n",
      "Epoch [890/1000], Loss: 0.0317, Accuracy: 72.00%\n",
      "Epoch [900/1000], Loss: 0.0316, Accuracy: 72.00%\n",
      "Epoch [910/1000], Loss: 0.0315, Accuracy: 72.00%\n",
      "Epoch [920/1000], Loss: 0.0314, Accuracy: 72.00%\n",
      "Epoch [930/1000], Loss: 0.0313, Accuracy: 72.00%\n",
      "Epoch [940/1000], Loss: 0.0312, Accuracy: 72.00%\n",
      "Epoch [950/1000], Loss: 0.0311, Accuracy: 72.00%\n",
      "Epoch [960/1000], Loss: 0.0310, Accuracy: 72.00%\n",
      "Epoch [970/1000], Loss: 0.0310, Accuracy: 72.00%\n",
      "Epoch [980/1000], Loss: 0.0309, Accuracy: 72.00%\n",
      "Epoch [990/1000], Loss: 0.0308, Accuracy: 72.00%\n",
      "Epoch [1000/1000], Loss: 0.0307, Accuracy: 72.00%\n"
     ]
    }
   ],
   "source": [
    "epochs = 1000\n",
    "\n",
    "for epoch in range(epochs):\n",
    "    # Convert data to PyTorch tensor\n",
    "    inputs = torch.Tensor(X)\n",
    "    \n",
    "    # reshape labels from single row to single column\n",
    "    labels = torch.Tensor(y).reshape(-1, 1)\n",
    "    \n",
    "    # zero the gradients\n",
    "    optimizer.zero_grad()\n",
    "    \n",
    "    # Forward pass\n",
    "    outputs = model(inputs)\n",
    "    loss = criterion(outputs, labels)\n",
    "    acc = binary_accuracy(outputs, labels)\n",
    "    \n",
    "    # backward pass and optimizer\n",
    "    loss.backward() # computes gradients with respect to model parameters\n",
    "    \n",
    "    # use gradient to update weights and biases\n",
    "    optimizer.step()\n",
    "    \n",
    "    # print progress\n",
    "    if (epoch+1) % 10 == 0:\n",
    "        print(f\"Epoch [{epoch+1}/{epochs}], Loss: {loss.item():.4f}, Accuracy: {acc.item()*100:.2f}%\")"
   ]
  },
  {
   "cell_type": "code",
   "execution_count": null,
   "id": "bc862279",
   "metadata": {},
   "outputs": [],
   "source": []
  }
 ],
 "metadata": {
  "kernelspec": {
   "display_name": "tensor_env",
   "language": "python",
   "name": "tensor_env"
  },
  "language_info": {
   "codemirror_mode": {
    "name": "ipython",
    "version": 3
   },
   "file_extension": ".py",
   "mimetype": "text/x-python",
   "name": "python",
   "nbconvert_exporter": "python",
   "pygments_lexer": "ipython3",
   "version": "3.10.7"
  }
 },
 "nbformat": 4,
 "nbformat_minor": 5
}
