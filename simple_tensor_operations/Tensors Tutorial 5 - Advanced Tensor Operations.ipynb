{
 "cells": [
  {
   "cell_type": "markdown",
   "id": "4784edbc",
   "metadata": {},
   "source": [
    "# Advanced Tensor Operations\n",
    "\n",
    "* Advanced Matrix Operations\n",
    "* Tensor Products\n",
    "* Tensor Decomposition"
   ]
  },
  {
   "cell_type": "markdown",
   "id": "5347a40a",
   "metadata": {},
   "source": [
    "## Advanced Matrix Operations\n",
    "\n",
    "* Matrix Inversion\n",
    "* Matrix Trace\n",
    "* Matrix Determinant"
   ]
  },
  {
   "cell_type": "markdown",
   "id": "52445a36",
   "metadata": {},
   "source": [
    "**Matrix Inversion**"
   ]
  },
  {
   "cell_type": "code",
   "execution_count": 2,
   "id": "92728bc7",
   "metadata": {},
   "outputs": [],
   "source": [
    "import torch"
   ]
  },
  {
   "cell_type": "code",
   "execution_count": 5,
   "id": "8e64ec28",
   "metadata": {},
   "outputs": [
    {
     "name": "stdout",
     "output_type": "stream",
     "text": [
      "tensor([[ 0.0000,  0.2143, -0.0714],\n",
      "        [ 0.5000, -0.3929, -0.0357],\n",
      "        [-0.2500,  0.1607,  0.1964]])\n",
      "tensor([[1.0000e+00, 0.0000e+00, 0.0000e+00],\n",
      "        [0.0000e+00, 1.0000e+00, 0.0000e+00],\n",
      "        [0.0000e+00, 5.9605e-08, 1.0000e+00]])\n"
     ]
    }
   ],
   "source": [
    "a = torch.tensor([[4, 3, 2],\n",
    "                  [5, 1, 2],\n",
    "                  [1, 3, 6]], dtype=torch.float32)\n",
    "\n",
    "a_inv = torch.inverse(a)\n",
    "\n",
    "print(a_inv)\n",
    "\n",
    "print(a @ a_inv)"
   ]
  },
  {
   "cell_type": "markdown",
   "id": "65ba1ba0",
   "metadata": {},
   "source": [
    "A^-1 = A|I_3\n",
    "\n",
    "**Perform Gaussian Elimination to get inverse**\n",
    "\n",
    "`[4, 3, 2 | [1, 0, 0\n",
    "  5, 1, 2 |  0, 1, 0\n",
    "  1, 3, 6 |  0, 0, 1]`\n",
    "  \n",
    "`[4, 3, 2 | [1, 0, 0\n",
    "  5, 1, 2 |  0, 1, 0\n",
    "  0, 10,20|  0, 5, -5]`\n",
    "  \n",
    "**Inverse of a 3x3 Matrix** \n",
    "https://www.youtube.com/watch?v=Fg7_mv3izR0\n"
   ]
  },
  {
   "cell_type": "markdown",
   "id": "47476a62",
   "metadata": {},
   "source": [
    "**Matrix Trace**\n"
   ]
  },
  {
   "cell_type": "code",
   "execution_count": 7,
   "id": "af950a3f",
   "metadata": {},
   "outputs": [
    {
     "name": "stdout",
     "output_type": "stream",
     "text": [
      "tensor(15)\n",
      "tensor(15)\n"
     ]
    }
   ],
   "source": [
    "a = torch.tensor([[1, 2, 3],\n",
    "                  [4, 5, 6],\n",
    "                  [7, 8, 9]])\n",
    "\n",
    "# Method1\n",
    "trace1 = a.trace()\n",
    "print(trace1)\n",
    "\n",
    "# method\n",
    "trace2 = torch.trace(a)\n",
    "print(trace2)"
   ]
  },
  {
   "cell_type": "markdown",
   "id": "67c1d4b3",
   "metadata": {},
   "source": [
    "**Matrix Determinant**"
   ]
  },
  {
   "cell_type": "markdown",
   "id": "bf1a2a56",
   "metadata": {},
   "source": [
    "If a matrix has a zero determinant, then it does not have an inverse, otherwise if the matrix has a nonzero determinant, then it has an inverse."
   ]
  },
  {
   "cell_type": "code",
   "execution_count": 9,
   "id": "860f5c4f",
   "metadata": {},
   "outputs": [
    {
     "name": "stdout",
     "output_type": "stream",
     "text": [
      "tensor(0.)\n"
     ]
    }
   ],
   "source": [
    "a = torch.tensor([[1, 2, 3],\n",
    "                  [3, 4, 5],\n",
    "                  [5, 6, 7]], dtype=torch.float32)\n",
    "\n",
    "a_det = torch.det(a)\n",
    "\n",
    "print(a_det)"
   ]
  },
  {
   "cell_type": "code",
   "execution_count": 13,
   "id": "9d5b710c",
   "metadata": {},
   "outputs": [
    {
     "name": "stdout",
     "output_type": "stream",
     "text": [
      "tensor(23.0000)\n"
     ]
    }
   ],
   "source": [
    "a = torch.tensor([[7, -4, 2],\n",
    "                  [3, 1, -5],\n",
    "                  [2, 2, -5]], dtype=torch.float32)\n",
    "\n",
    "a_det = torch.det(a)\n",
    "\n",
    "print(a_det)"
   ]
  },
  {
   "cell_type": "markdown",
   "id": "c4829a84",
   "metadata": {},
   "source": [
    "`[a, b\n",
    "  c, d]` ad - bc\n",
    "  \n",
    "7([1, -5, \n",
    "   2, -5]) - -4([3, -5, \n",
    "                 2, -5]) + 2([3, 1, \n",
    "                              2, 2])\n",
    "                              \n",
    "7(-5 + 10) - -4(-15 + 10) + 2(6 - 2)\n",
    "7(5) - -4(-5) + 2(4)\n",
    "35 -20 + 8\n",
    "15 + 8 = 23"
   ]
  },
  {
   "cell_type": "markdown",
   "id": "1e9f6a20",
   "metadata": {},
   "source": [
    "## Tensor Products"
   ]
  },
  {
   "cell_type": "markdown",
   "id": "52b7903a",
   "metadata": {},
   "source": [
    "**Inner/Dot Product**"
   ]
  },
  {
   "cell_type": "code",
   "execution_count": 14,
   "id": "002324bd",
   "metadata": {},
   "outputs": [
    {
     "name": "stdout",
     "output_type": "stream",
     "text": [
      "tensor(32)\n"
     ]
    }
   ],
   "source": [
    "x = torch.tensor([1, 2, 3])\n",
    "y = torch.tensor([4, 5, 6])\n",
    "\n",
    "inner_product = torch.dot(x, y)\n",
    "\n",
    "print(inner_product)"
   ]
  },
  {
   "cell_type": "markdown",
   "id": "9d4e8d2e",
   "metadata": {},
   "source": [
    "**Outer Product**"
   ]
  },
  {
   "cell_type": "code",
   "execution_count": 15,
   "id": "17aa655e",
   "metadata": {},
   "outputs": [
    {
     "name": "stdout",
     "output_type": "stream",
     "text": [
      "tensor([[ 4,  5,  6],\n",
      "        [ 8, 10, 12],\n",
      "        [12, 15, 18]])\n"
     ]
    }
   ],
   "source": [
    "x = torch.tensor([1, 2, 3])\n",
    "y = torch.tensor([4, 5, 6])\n",
    "\n",
    "outer_product = torch.ger(x, y)\n",
    "\n",
    "print(outer_product)"
   ]
  },
  {
   "cell_type": "markdown",
   "id": "65d284db",
   "metadata": {},
   "source": [
    "**Hadamard Product**"
   ]
  },
  {
   "cell_type": "code",
   "execution_count": 16,
   "id": "c9abb196",
   "metadata": {},
   "outputs": [
    {
     "name": "stdout",
     "output_type": "stream",
     "text": [
      "tensor([[ 4, 12, 24],\n",
      "        [30, 60, 84]])\n"
     ]
    }
   ],
   "source": [
    "x = torch.tensor([[2, 3, 4], [5, 6, 7]])\n",
    "y = torch.tensor([[2, 4, 6], [6, 10, 12]])\n",
    "\n",
    "z = torch.mul(x, y)\n",
    "\n",
    "print(z)"
   ]
  },
  {
   "cell_type": "markdown",
   "id": "f105dc15",
   "metadata": {},
   "source": [
    "**Kronecker Product**"
   ]
  },
  {
   "cell_type": "code",
   "execution_count": 17,
   "id": "fb69260c",
   "metadata": {},
   "outputs": [
    {
     "name": "stdout",
     "output_type": "stream",
     "text": [
      "tensor([[ 0,  5,  0, 10],\n",
      "        [ 6,  7, 12, 14],\n",
      "        [ 0, 15,  0, 20],\n",
      "        [18, 21, 24, 28]])\n"
     ]
    }
   ],
   "source": [
    "a = torch.tensor([[1, 2], [3, 4]])\n",
    "b = torch.tensor([[0, 5], [6, 7]])\n",
    "\n",
    "c = torch.kron(a, b)\n",
    "\n",
    "print(c)"
   ]
  },
  {
   "cell_type": "markdown",
   "id": "09721155",
   "metadata": {},
   "source": [
    "**Tensor Contraction**"
   ]
  },
  {
   "cell_type": "code",
   "execution_count": 18,
   "id": "d50dadb2",
   "metadata": {},
   "outputs": [
    {
     "name": "stdout",
     "output_type": "stream",
     "text": [
      "tensor([[ 58,  64],\n",
      "        [139, 154]])\n",
      "tensor([[ 39,  54,  69],\n",
      "        [ 49,  68,  87],\n",
      "        [ 59,  82, 105]])\n"
     ]
    }
   ],
   "source": [
    "a = torch.tensor([[1, 2, 3], \n",
    "                  [4, 5, 6]])\n",
    "b = torch.tensor([[7, 8], [9, 10], [11, 12]])\n",
    "\n",
    "# contract on the first dim\n",
    "# first-left, first-right\n",
    "c = torch.einsum('ik,kj->ij', a, b)\n",
    "print(c)\n",
    "\n",
    "# contract on the second dim\n",
    "# first-left, first-mid, first-right\n",
    "c = torch.einsum('ik,kj->ij', b, a)\n",
    "print(c)"
   ]
  },
  {
   "cell_type": "code",
   "execution_count": 21,
   "id": "91e2dd66",
   "metadata": {},
   "outputs": [
    {
     "data": {
      "text/plain": [
       "139"
      ]
     },
     "execution_count": 21,
     "metadata": {},
     "output_type": "execute_result"
    }
   ],
   "source": []
  },
  {
   "cell_type": "markdown",
   "id": "d442af86",
   "metadata": {},
   "source": [
    "## Tensor Decomposition\n",
    "\n",
    "* Singular Value Decomposition (SVD)\n",
    "* Eigenvalue Decomposition (EVD)"
   ]
  },
  {
   "cell_type": "markdown",
   "id": "c3912464",
   "metadata": {},
   "source": [
    "**Singular Value Decomposition**"
   ]
  },
  {
   "cell_type": "code",
   "execution_count": 23,
   "id": "c1daa176",
   "metadata": {},
   "outputs": [
    {
     "name": "stdout",
     "output_type": "stream",
     "text": [
      "U:  tensor([[-0.2148,  0.8872,  0.4082],\n",
      "        [-0.5206,  0.2496, -0.8165],\n",
      "        [-0.8263, -0.3879,  0.4082]])\n",
      "S:  tensor([1.6848e+01, 1.0684e+00, 2.3721e-07])\n",
      "V:  tensor([[-0.4797, -0.7767, -0.4082],\n",
      "        [-0.5724, -0.0757,  0.8165],\n",
      "        [-0.6651,  0.6253, -0.4082]])\n",
      "tensor([[1.0000, 2.0000, 3.0000],\n",
      "        [4.0000, 5.0000, 6.0000],\n",
      "        [7.0000, 8.0000, 9.0000]])\n"
     ]
    }
   ],
   "source": [
    "a = torch.tensor([[1, 2, 3],\n",
    "                  [4, 5, 6],\n",
    "                  [7, 8, 9]], dtype=torch.float32)\n",
    "\n",
    "U, S, V = torch.svd(a)\n",
    "\n",
    "print(\"U: \", U)\n",
    "print(\"S: \", S)\n",
    "print(\"V: \", V)\n",
    "\n",
    "a_reconstructed = torch.mm(U, torch.mm(torch.diag(S), V.t()))\n",
    "\n",
    "print(a_reconstructed)"
   ]
  },
  {
   "cell_type": "markdown",
   "id": "aeaada5c",
   "metadata": {},
   "source": [
    "$$A = \\cup\\Sigma\\vee^T$$"
   ]
  },
  {
   "cell_type": "markdown",
   "id": "bed01244",
   "metadata": {},
   "source": [
    "**Eigenvalue Decomposition**"
   ]
  },
  {
   "cell_type": "code",
   "execution_count": 24,
   "id": "c4befbc5",
   "metadata": {},
   "outputs": [
    {
     "name": "stdout",
     "output_type": "stream",
     "text": [
      "Eigenvalues:  tensor([ 1.6117e+01+0.j, -1.1168e+00+0.j, -1.2253e-07+0.j])\n",
      "Eigenvectors:  tensor([[-0.2320+0.j, -0.7858+0.j,  0.4082+0.j],\n",
      "        [-0.5253+0.j, -0.0868+0.j, -0.8165+0.j],\n",
      "        [-0.8187+0.j,  0.6123+0.j,  0.4082+0.j]])\n",
      "Original Matrix:  tensor([[1., 2., 3.],\n",
      "        [4., 5., 6.],\n",
      "        [7., 8., 9.]])\n",
      "Reconstructed Matrix:  tensor([[1.0000+0.j, 2.0000+0.j, 3.0000+0.j],\n",
      "        [4.0000+0.j, 5.0000+0.j, 6.0000+0.j],\n",
      "        [7.0000+0.j, 8.0000+0.j, 9.0000+0.j]])\n"
     ]
    }
   ],
   "source": [
    "a = torch.tensor([[1,2, 3],\n",
    "                  [4, 5, 6],\n",
    "                  [7, 8, 9]], dtype=torch.float32)\n",
    "\n",
    "eigenvalues, eigenvectors = torch.linalg.eig(a)\n",
    "\n",
    "a_reconstructed = eigenvectors @ torch.diag_embed(eigenvalues) @ torch.inverse(eigenvectors)\n",
    "\n",
    "print(\"Eigenvalues: \", eigenvalues)\n",
    "print(\"Eigenvectors: \", eigenvectors)\n",
    "\n",
    "print(\"Original Matrix: \", a)\n",
    "print(\"Reconstructed Matrix: \", a_reconstructed)"
   ]
  },
  {
   "cell_type": "code",
   "execution_count": null,
   "id": "2e19bd3b",
   "metadata": {},
   "outputs": [],
   "source": []
  }
 ],
 "metadata": {
  "kernelspec": {
   "display_name": "tensor_env",
   "language": "python",
   "name": "tensor_env"
  },
  "language_info": {
   "codemirror_mode": {
    "name": "ipython",
    "version": 3
   },
   "file_extension": ".py",
   "mimetype": "text/x-python",
   "name": "python",
   "nbconvert_exporter": "python",
   "pygments_lexer": "ipython3",
   "version": "3.10.7"
  }
 },
 "nbformat": 4,
 "nbformat_minor": 5
}
