{
 "cells": [
  {
   "cell_type": "code",
   "execution_count": 1,
   "id": "225a3e80",
   "metadata": {},
   "outputs": [],
   "source": [
    "import torch"
   ]
  },
  {
   "cell_type": "markdown",
   "id": "29a544e4",
   "metadata": {},
   "source": [
    "## Element-wise Operations"
   ]
  },
  {
   "cell_type": "markdown",
   "id": "660fe896",
   "metadata": {},
   "source": [
    "**Element-wise Addition**"
   ]
  },
  {
   "cell_type": "code",
   "execution_count": 2,
   "id": "0e1823b1",
   "metadata": {},
   "outputs": [
    {
     "name": "stdout",
     "output_type": "stream",
     "text": [
      "tensor([9, 4, 4])\n",
      "tensor([9, 4, 4])\n"
     ]
    }
   ],
   "source": [
    "x = torch.tensor([4, 3, 2])\n",
    "y = torch.tensor([5, 1, 2])\n",
    "\n",
    "z = x + y # element-wise addition\n",
    "z2 = torch.add(x, y) # same operation\n",
    "print(z)\n",
    "print(z2)"
   ]
  },
  {
   "cell_type": "markdown",
   "id": "d35ba62b",
   "metadata": {},
   "source": [
    "**Element-wise Subtraction**"
   ]
  },
  {
   "cell_type": "code",
   "execution_count": 3,
   "id": "825bbc86",
   "metadata": {},
   "outputs": [
    {
     "name": "stdout",
     "output_type": "stream",
     "text": [
      "tensor([[-1,  3],\n",
      "        [ 5,  5],\n",
      "        [ 2,  1]])\n",
      "tensor([[-1,  3],\n",
      "        [ 5,  5],\n",
      "        [ 2,  1]])\n"
     ]
    }
   ],
   "source": [
    "x = torch.tensor([[4, 5], [6, 7], [6, 3]])\n",
    "y = torch.tensor([[5, 2], [1, 2], [4, 2]])\n",
    "\n",
    "z = x - y\n",
    "z2 = torch.subtract(x, y)\n",
    "\n",
    "print(z)\n",
    "print(z2)"
   ]
  },
  {
   "cell_type": "markdown",
   "id": "58983717",
   "metadata": {},
   "source": [
    "**Element-wise Multiplication**"
   ]
  },
  {
   "cell_type": "code",
   "execution_count": 4,
   "id": "db144821",
   "metadata": {},
   "outputs": [
    {
     "name": "stdout",
     "output_type": "stream",
     "text": [
      "tensor([ 5, 12,  3])\n",
      "tensor([ 5, 12,  3])\n"
     ]
    }
   ],
   "source": [
    "x = torch.tensor([5, 6, 1])\n",
    "y = torch.tensor([1, 2, 3])\n",
    "\n",
    "z = x * y\n",
    "z2 = torch.multiply(x, y)\n",
    "\n",
    "print(z)\n",
    "print(z2)"
   ]
  },
  {
   "cell_type": "markdown",
   "id": "98fafe9c",
   "metadata": {},
   "source": [
    "**Element-wise Division**"
   ]
  },
  {
   "cell_type": "code",
   "execution_count": 5,
   "id": "ded7906b",
   "metadata": {},
   "outputs": [
    {
     "name": "stdout",
     "output_type": "stream",
     "text": [
      "tensor([[5.0000, 3.0000, 0.3333],\n",
      "        [0.7143, 0.3750, 0.1111]])\n",
      "tensor([[5.0000, 3.0000, 0.3333],\n",
      "        [0.7143, 0.3750, 0.1111]])\n"
     ]
    }
   ],
   "source": [
    "x = torch.tensor([[5, 6, 1], [5, 3, 1]])\n",
    "y = torch.tensor([[1, 2, 3], [7, 8, 9]])\n",
    "\n",
    "z = x / y\n",
    "z2 = torch.divide(x, y)\n",
    "\n",
    "print(z)\n",
    "print(z2)"
   ]
  },
  {
   "cell_type": "markdown",
   "id": "2a3bbec9",
   "metadata": {},
   "source": [
    "## Broadcasting Tensors"
   ]
  },
  {
   "cell_type": "code",
   "execution_count": 6,
   "id": "bdafff2e",
   "metadata": {},
   "outputs": [
    {
     "name": "stdout",
     "output_type": "stream",
     "text": [
      "tensor([[3, 4],\n",
      "        [5, 6]])\n"
     ]
    }
   ],
   "source": [
    "a = torch.tensor([[1, 2], [3, 4]])\n",
    "\n",
    "b = 2\n",
    "\n",
    "c = a + b\n",
    "print(c)"
   ]
  },
  {
   "cell_type": "code",
   "execution_count": 7,
   "id": "3340d877",
   "metadata": {},
   "outputs": [
    {
     "name": "stdout",
     "output_type": "stream",
     "text": [
      "tensor([[20, 25, 25],\n",
      "        [30, 35, 40],\n",
      "        [ 5, 10, 15]])\n"
     ]
    }
   ],
   "source": [
    "a = torch.tensor([[4, 5, 5], [6, 7, 8], [1, 2, 3]])\n",
    "\n",
    "b = 5\n",
    "\n",
    "print(a * b)"
   ]
  },
  {
   "cell_type": "code",
   "execution_count": 9,
   "id": "b24b0faf",
   "metadata": {},
   "outputs": [
    {
     "name": "stdout",
     "output_type": "stream",
     "text": [
      "tensor([[30, 21,  2],\n",
      "        [36, 49, 16],\n",
      "        [54,  0,  4]])\n"
     ]
    }
   ],
   "source": [
    "a = torch.tensor([[5, 3, 1], [6, 7, 8], [9, 0, 2]])\n",
    "b = torch.tensor([6, 7, 2])\n",
    "\n",
    "print(a * b)"
   ]
  },
  {
   "cell_type": "code",
   "execution_count": 12,
   "id": "d02b51bd",
   "metadata": {},
   "outputs": [
    {
     "name": "stdout",
     "output_type": "stream",
     "text": [
      "tensor([[1.2000, 0.6667, 0.2857],\n",
      "        [1.2000, 0.6667, 0.2857]])\n"
     ]
    }
   ],
   "source": [
    "a = torch.tensor([[6, 4, 2], [6, 4, 2]])\n",
    "b = torch.tensor([5, 6, 7])\n",
    "\n",
    "print(a / b)"
   ]
  },
  {
   "cell_type": "markdown",
   "id": "513a187e",
   "metadata": {},
   "source": [
    "## Matrix Multiplication and Dot Product"
   ]
  },
  {
   "cell_type": "code",
   "execution_count": 17,
   "id": "99118810",
   "metadata": {},
   "outputs": [
    {
     "name": "stdout",
     "output_type": "stream",
     "text": [
      "tensor([[ 77,  31],\n",
      "        [ 41,  19],\n",
      "        [143,  52]])\n",
      "tensor([[ 77,  31],\n",
      "        [ 41,  19],\n",
      "        [143,  52]])\n",
      "tensor([[ 77,  31],\n",
      "        [ 41,  19],\n",
      "        [143,  52]])\n"
     ]
    }
   ],
   "source": [
    "# Matrix Multiplication\n",
    "a = torch.tensor([[4, 5, 6], [6, 1, 2], [12, 13, 5]])\n",
    "b = torch.tensor([[4, 5, 6], [2, 1, 3]])\n",
    "b = b.t()\n",
    "\n",
    "c = torch.matmul(a, b)\n",
    "c2 = torch.mm(a, b)\n",
    "c3 = a @ b\n",
    "\n",
    "print(c)\n",
    "print(c2)\n",
    "print(c3)"
   ]
  },
  {
   "cell_type": "code",
   "execution_count": 18,
   "id": "2c41f6d8",
   "metadata": {},
   "outputs": [
    {
     "name": "stdout",
     "output_type": "stream",
     "text": [
      "tensor([[4, 2],\n",
      "        [5, 1],\n",
      "        [6, 3]])\n"
     ]
    }
   ],
   "source": [
    "print(b)"
   ]
  },
  {
   "cell_type": "code",
   "execution_count": 28,
   "id": "09f56a89",
   "metadata": {},
   "outputs": [
    {
     "name": "stdout",
     "output_type": "stream",
     "text": [
      "tensor(17)\n"
     ]
    }
   ],
   "source": [
    "# Dot product\n",
    "a = torch.tensor([4, 5, 1])\n",
    "b = torch.tensor([1, 2, 3])\n",
    "\n",
    "c = torch.dot(a, b)\n",
    "print(c)"
   ]
  },
  {
   "cell_type": "markdown",
   "id": "15704d01",
   "metadata": {},
   "source": [
    "## Reduction Operations"
   ]
  },
  {
   "cell_type": "markdown",
   "id": "03a7b78a",
   "metadata": {},
   "source": [
    "**Sum**"
   ]
  },
  {
   "cell_type": "code",
   "execution_count": 29,
   "id": "4f1b812c",
   "metadata": {},
   "outputs": [
    {
     "name": "stdout",
     "output_type": "stream",
     "text": [
      "tensor(14)\n"
     ]
    }
   ],
   "source": [
    "a = torch.tensor([[1, 2], [5, 6]])\n",
    "\n",
    "a = torch.sum(a)\n",
    "\n",
    "print(a)"
   ]
  },
  {
   "cell_type": "code",
   "execution_count": 31,
   "id": "ed98f4ee",
   "metadata": {},
   "outputs": [
    {
     "name": "stdout",
     "output_type": "stream",
     "text": [
      "tensor(12)\n",
      "tensor([5, 7])\n",
      "tensor([3, 9])\n"
     ]
    }
   ],
   "source": [
    "a = torch.tensor([[1, 2], [4, 5]])\n",
    "\n",
    "z = a.sum()\n",
    "print(z)\n",
    "\n",
    "z = a.sum(dim=0)\n",
    "print(z)\n",
    "\n",
    "z = a.sum(dim=1)\n",
    "print(z)"
   ]
  },
  {
   "cell_type": "markdown",
   "id": "8228973a",
   "metadata": {},
   "source": [
    "**Mean**"
   ]
  },
  {
   "cell_type": "code",
   "execution_count": 34,
   "id": "d17d6e31",
   "metadata": {
    "scrolled": false
   },
   "outputs": [
    {
     "name": "stdout",
     "output_type": "stream",
     "text": [
      "tensor(4.)\n",
      "tensor([4.5000, 3.5000])\n",
      "tensor([2.5000, 5.5000])\n"
     ]
    }
   ],
   "source": [
    "a = torch.tensor([[4, 1], [5, 6]], dtype=torch.float32)\n",
    "\n",
    "z = torch.mean(a)\n",
    "print(z)\n",
    "\n",
    "z = torch.mean(a, dim=0)\n",
    "print(z)\n",
    "\n",
    "z = torch.mean(a, dim=1)\n",
    "print(z)"
   ]
  },
  {
   "cell_type": "markdown",
   "id": "0561bc81",
   "metadata": {},
   "source": [
    "**Max**"
   ]
  },
  {
   "cell_type": "code",
   "execution_count": 35,
   "id": "b96d190d",
   "metadata": {},
   "outputs": [
    {
     "name": "stdout",
     "output_type": "stream",
     "text": [
      "tensor(6.)\n",
      "torch.return_types.max(\n",
      "values=tensor([5., 6.]),\n",
      "indices=tensor([1, 1]))\n",
      "torch.return_types.max(\n",
      "values=tensor([4., 6.]),\n",
      "indices=tensor([0, 1]))\n"
     ]
    }
   ],
   "source": [
    "a = torch.tensor([[4, 1], [5, 6]], dtype=torch.float32)\n",
    "\n",
    "z = torch.max(a)\n",
    "print(z)\n",
    "\n",
    "z = torch.max(a, dim=0)\n",
    "print(z)\n",
    "\n",
    "z = torch.max(a, dim=1)\n",
    "print(z)"
   ]
  },
  {
   "cell_type": "markdown",
   "id": "0a5511c7",
   "metadata": {},
   "source": [
    "**Min**"
   ]
  },
  {
   "cell_type": "code",
   "execution_count": 36,
   "id": "f8eac360",
   "metadata": {},
   "outputs": [
    {
     "name": "stdout",
     "output_type": "stream",
     "text": [
      "tensor(1.)\n",
      "torch.return_types.min(\n",
      "values=tensor([4., 1.]),\n",
      "indices=tensor([0, 0]))\n",
      "torch.return_types.min(\n",
      "values=tensor([1., 5.]),\n",
      "indices=tensor([1, 0]))\n"
     ]
    }
   ],
   "source": [
    "a = torch.tensor([[4, 1], [5, 6]], dtype=torch.float32)\n",
    "\n",
    "z = torch.min(a)\n",
    "print(z)\n",
    "\n",
    "z = torch.min(a, dim=0)\n",
    "print(z)\n",
    "\n",
    "z = torch.min(a, dim=1)\n",
    "print(z)"
   ]
  },
  {
   "cell_type": "code",
   "execution_count": null,
   "id": "5667e4e8",
   "metadata": {},
   "outputs": [],
   "source": []
  }
 ],
 "metadata": {
  "kernelspec": {
   "display_name": "tensor_env",
   "language": "python",
   "name": "tensor_env"
  },
  "language_info": {
   "codemirror_mode": {
    "name": "ipython",
    "version": 3
   },
   "file_extension": ".py",
   "mimetype": "text/x-python",
   "name": "python",
   "nbconvert_exporter": "python",
   "pygments_lexer": "ipython3",
   "version": "3.10.7"
  }
 },
 "nbformat": 4,
 "nbformat_minor": 5
}
