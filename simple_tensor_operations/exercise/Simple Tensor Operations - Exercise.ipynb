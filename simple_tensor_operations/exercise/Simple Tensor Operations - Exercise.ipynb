{
 "cells": [
  {
   "cell_type": "code",
   "execution_count": 1,
   "id": "30121aa9",
   "metadata": {},
   "outputs": [],
   "source": [
    "import torch"
   ]
  },
  {
   "cell_type": "markdown",
   "id": "c45eb5e4",
   "metadata": {},
   "source": [
    "1. Generate two 1D tensors with random values of shapes (12,) with values from 8 to 17."
   ]
  },
  {
   "cell_type": "code",
   "execution_count": null,
   "id": "c839f6dc",
   "metadata": {},
   "outputs": [],
   "source": []
  },
  {
   "cell_type": "markdown",
   "id": "0ebbc725",
   "metadata": {},
   "source": [
    "2. Compute the outer product of the tensors in question 1."
   ]
  },
  {
   "cell_type": "code",
   "execution_count": null,
   "id": "4f5e2c56",
   "metadata": {},
   "outputs": [],
   "source": []
  },
  {
   "cell_type": "markdown",
   "id": "d1c81df1",
   "metadata": {},
   "source": [
    "3. Compute the dot product of `A` and `B`."
   ]
  },
  {
   "cell_type": "code",
   "execution_count": null,
   "id": "f6c50ccf",
   "metadata": {},
   "outputs": [],
   "source": []
  },
  {
   "cell_type": "markdown",
   "id": "63211c3c",
   "metadata": {},
   "source": [
    "4. Reshape the tensors from question 1 to a 2D tensor of (3, 4) and (4, 3) respectively. Use tensor contraction to contract the tensors along the second dimension."
   ]
  },
  {
   "cell_type": "code",
   "execution_count": null,
   "id": "d311742a",
   "metadata": {},
   "outputs": [],
   "source": []
  },
  {
   "cell_type": "markdown",
   "id": "6b5f38ce",
   "metadata": {},
   "source": [
    "5. Compute the determinant of the tensor generated in question 4."
   ]
  },
  {
   "cell_type": "code",
   "execution_count": null,
   "id": "d0057044",
   "metadata": {},
   "outputs": [],
   "source": []
  },
  {
   "cell_type": "markdown",
   "id": "72733bde",
   "metadata": {},
   "source": [
    "6. If the determinant is a nonzero, find its inverse."
   ]
  },
  {
   "cell_type": "code",
   "execution_count": null,
   "id": "94a803cf",
   "metadata": {},
   "outputs": [],
   "source": []
  },
  {
   "cell_type": "markdown",
   "id": "f9aa39a4",
   "metadata": {},
   "source": [
    "7. Generate a 2D tensor with random values of shapes (3, 3) and calculate its trace."
   ]
  },
  {
   "cell_type": "code",
   "execution_count": null,
   "id": "2f669555",
   "metadata": {},
   "outputs": [],
   "source": []
  },
  {
   "cell_type": "markdown",
   "id": "ed1d3024",
   "metadata": {},
   "source": [
    "8. Generate a 2D tensor with random values of shape (2, 3) and compute its Kronecker product with itself using PyTorch."
   ]
  },
  {
   "cell_type": "code",
   "execution_count": null,
   "id": "e2efc85f",
   "metadata": {},
   "outputs": [],
   "source": []
  },
  {
   "cell_type": "markdown",
   "id": "9ead3727",
   "metadata": {},
   "source": [
    "9. Generate two 2D tensors with random values of shape (3, 4) and (4, 5). Compute the matrix multiplication of these two tensors, and then contract this resultant matrix to the generated (2,3) tensor question 8 along the first dimension. (remember, their shapes must match)"
   ]
  },
  {
   "cell_type": "code",
   "execution_count": null,
   "id": "1a245bb7",
   "metadata": {},
   "outputs": [],
   "source": []
  },
  {
   "cell_type": "markdown",
   "id": "1b0d970b",
   "metadata": {},
   "source": [
    "10. Generate a 3D tensor with random values of shape (2, 3, 4). Transpose this tensor such that the second and third dimensions are swapped, and then compute the sum of the elements in the resulting tensor along the 3rd dimension."
   ]
  },
  {
   "cell_type": "code",
   "execution_count": null,
   "id": "ee7cc0c0",
   "metadata": {},
   "outputs": [],
   "source": []
  }
 ],
 "metadata": {
  "kernelspec": {
   "display_name": "tensor_env",
   "language": "python",
   "name": "tensor_env"
  },
  "language_info": {
   "codemirror_mode": {
    "name": "ipython",
    "version": 3
   },
   "file_extension": ".py",
   "mimetype": "text/x-python",
   "name": "python",
   "nbconvert_exporter": "python",
   "pygments_lexer": "ipython3",
   "version": "3.10.7"
  }
 },
 "nbformat": 4,
 "nbformat_minor": 5
}
