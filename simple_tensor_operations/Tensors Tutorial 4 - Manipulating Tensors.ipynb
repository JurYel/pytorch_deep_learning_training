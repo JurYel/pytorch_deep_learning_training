{
 "cells": [
  {
   "cell_type": "markdown",
   "id": "9ec208fc",
   "metadata": {},
   "source": [
    "# Manipulating Tensors in Pytorch"
   ]
  },
  {
   "cell_type": "markdown",
   "id": "7e297163",
   "metadata": {},
   "source": [
    "### Reshaping Tensors with `.view()` and `.reshape()` functions"
   ]
  },
  {
   "cell_type": "code",
   "execution_count": 2,
   "id": "8a0f440f",
   "metadata": {},
   "outputs": [],
   "source": [
    "import torch"
   ]
  },
  {
   "cell_type": "code",
   "execution_count": 4,
   "id": "f06c5935",
   "metadata": {
    "scrolled": true
   },
   "outputs": [
    {
     "name": "stdout",
     "output_type": "stream",
     "text": [
      "tensor([[14, 22, 23],\n",
      "        [32, 46, 47],\n",
      "        [22, 16, 12],\n",
      "        [14, 22, 23]])\n"
     ]
    }
   ],
   "source": [
    "a = torch.tensor([[2, 3, 5, 6], [5, 1, 2, 3]])\n",
    "b = torch.tensor([[4, 2], [1, 2], [6, 7]])\n",
    "\n",
    "c = torch.mm(a.view(4, 2), b.reshape(2, 3))\n",
    "print(c)"
   ]
  },
  {
   "cell_type": "code",
   "execution_count": 7,
   "id": "6dbb03e5",
   "metadata": {},
   "outputs": [
    {
     "name": "stdout",
     "output_type": "stream",
     "text": [
      "tensor([[ 7.7157,  9.8867, 12.0576, 14.2286],\n",
      "        [ 6.2026,  7.5897,  8.9768, 10.3639],\n",
      "        [10.0020, 11.7572, 13.5125, 15.2677]])\n"
     ]
    }
   ],
   "source": [
    "a = torch.rand(3,3)\n",
    "b = torch.arange(1,13)\n",
    "\n",
    "c = torch.mm(a, b.view(3, 4).to(torch.float32))\n",
    "\n",
    "print(c)"
   ]
  },
  {
   "cell_type": "markdown",
   "id": "d12f50c5",
   "metadata": {},
   "source": [
    "## Slicing and Indexing"
   ]
  },
  {
   "cell_type": "markdown",
   "id": "14a9129b",
   "metadata": {},
   "source": [
    "**Indexing tensors**"
   ]
  },
  {
   "cell_type": "code",
   "execution_count": 9,
   "id": "3385cb23",
   "metadata": {},
   "outputs": [
    {
     "name": "stdout",
     "output_type": "stream",
     "text": [
      "tensor(1) tensor(5) tensor(2)\n",
      "tensor(8)\n"
     ]
    }
   ],
   "source": [
    "x = torch.tensor([[1, 2, 3],\n",
    "                  [4, 5, 6],\n",
    "                  [9, 1, 2]])\n",
    "\n",
    "a = x[0,0]\n",
    "b = x[1,1]\n",
    "c = x[2,2]\n",
    "\n",
    "print(a, b, c)\n",
    "print(a + b + c)"
   ]
  },
  {
   "cell_type": "markdown",
   "id": "11632e25",
   "metadata": {},
   "source": [
    "**Advanced Indexing**"
   ]
  },
  {
   "cell_type": "code",
   "execution_count": 43,
   "id": "e5d872e1",
   "metadata": {},
   "outputs": [
    {
     "name": "stdout",
     "output_type": "stream",
     "text": [
      "tensor([5, 6, 9, 5])\n"
     ]
    }
   ],
   "source": [
    "x = torch.tensor([[5, 1, 2, 4],\n",
    "                  [6, 7, 12, 1],\n",
    "                  [8, 1, 9, 6],\n",
    "                  [1, 9, 5, 7]])\n",
    "\n",
    "indices = torch.tensor([[0, 1, 2, 3],\n",
    "                        [0, 0, 2, 2]])\n",
    "\n",
    "print(x[indices[0], indices[1]])"
   ]
  },
  {
   "cell_type": "code",
   "execution_count": 44,
   "id": "f58b86b5",
   "metadata": {},
   "outputs": [
    {
     "name": "stdout",
     "output_type": "stream",
     "text": [
      "tensor([[5, 7],\n",
      "        [7, 2],\n",
      "        [6, 3]])\n"
     ]
    }
   ],
   "source": [
    "x = torch.tensor([[5, 6, 7],\n",
    "                  [7, 1, 2],\n",
    "                  [6, 1, 3]])\n",
    "\n",
    "indices = torch.tensor([0, 2])\n",
    "\n",
    "print(x[:, indices])"
   ]
  },
  {
   "cell_type": "markdown",
   "id": "d7302b8e",
   "metadata": {},
   "source": [
    "## Slicing Tensors"
   ]
  },
  {
   "cell_type": "code",
   "execution_count": 46,
   "id": "2b64182e",
   "metadata": {},
   "outputs": [
    {
     "name": "stdout",
     "output_type": "stream",
     "text": [
      "tensor([4, 5, 6])\n",
      "tensor([5, 1, 1])\n",
      "tensor([6, 2, 5])\n"
     ]
    }
   ],
   "source": [
    "x = torch.tensor([[4, 5, 6],\n",
    "                  [7, 1, 2],\n",
    "                  [5, 1, 5]])\n",
    "\n",
    "# select first row\n",
    "print(x[0, :])\n",
    "\n",
    "# select middle column\n",
    "print(x[:, 1])\n",
    "\n",
    "# select last column\n",
    "print(x[:, 2])\n"
   ]
  },
  {
   "cell_type": "code",
   "execution_count": 61,
   "id": "a27e2c3b",
   "metadata": {},
   "outputs": [
    {
     "name": "stdout",
     "output_type": "stream",
     "text": [
      "tensor([[ 8.,  6.],\n",
      "        [11.,  5.]])\n",
      "tensor([[ 9., 11.],\n",
      "        [ 6.,  5.]])\n"
     ]
    }
   ],
   "source": [
    "x = torch.randint(4, 12, (3, 4), dtype=torch.float32)\n",
    "\n",
    "print(x[1:, [1, 2]])\n",
    "\n",
    "print(x[:2, [0, 3]])"
   ]
  },
  {
   "cell_type": "code",
   "execution_count": 62,
   "id": "40ea0221",
   "metadata": {},
   "outputs": [
    {
     "data": {
      "text/plain": [
       "tensor([[ 9., 11.,  5., 11.],\n",
       "        [ 6.,  8.,  6.,  5.],\n",
       "        [10., 11.,  5., 11.]])"
      ]
     },
     "execution_count": 62,
     "metadata": {},
     "output_type": "execute_result"
    }
   ],
   "source": [
    "x"
   ]
  },
  {
   "cell_type": "markdown",
   "id": "20136aed",
   "metadata": {},
   "source": [
    "## Boolean Indexing"
   ]
  },
  {
   "cell_type": "code",
   "execution_count": 73,
   "id": "2f9faede",
   "metadata": {
    "scrolled": true
   },
   "outputs": [
    {
     "name": "stdout",
     "output_type": "stream",
     "text": [
      "tensor([7, 6, 9, 5, 6, 6])\n",
      "tensor([7, 6, 5, 6, 6])\n",
      "tensor([ 7,  6, 14,  5,  6,  6])\n"
     ]
    }
   ],
   "source": [
    "x = torch.randint(5, 15, (3, 3))\n",
    "\n",
    "print(x[x < 10])\n",
    "print(x[(x >= 5) & (x < 9)])\n",
    "print(x[(x > 10) | (x < 8)])"
   ]
  },
  {
   "cell_type": "code",
   "execution_count": 74,
   "id": "b94a417d",
   "metadata": {},
   "outputs": [
    {
     "data": {
      "text/plain": [
       "tensor([[ 7, 10,  6],\n",
       "        [14, 10,  9],\n",
       "        [ 5,  6,  6]])"
      ]
     },
     "execution_count": 74,
     "metadata": {},
     "output_type": "execute_result"
    }
   ],
   "source": [
    "x"
   ]
  },
  {
   "cell_type": "markdown",
   "id": "36e82fcf",
   "metadata": {},
   "source": [
    "## Matrix Transpose"
   ]
  },
  {
   "cell_type": "code",
   "execution_count": 76,
   "id": "2114d1f1",
   "metadata": {},
   "outputs": [
    {
     "name": "stdout",
     "output_type": "stream",
     "text": [
      "tensor([[20, 38],\n",
      "        [47, 92],\n",
      "        [41, 86]])\n"
     ]
    }
   ],
   "source": [
    "a = torch.tensor([[1, 2, 3], [4, 5, 6], [6, 7, 2]])\n",
    "b = torch.tensor([[2, 3, 4], [5, 6, 7]])\n",
    "\n",
    "b = b.t()\n",
    "\n",
    "c = torch.mm(a, b)\n",
    "\n",
    "print(c)"
   ]
  },
  {
   "cell_type": "code",
   "execution_count": 77,
   "id": "66d3026e",
   "metadata": {},
   "outputs": [
    {
     "data": {
      "text/plain": [
       "tensor([[2, 5],\n",
       "        [3, 6],\n",
       "        [4, 7]])"
      ]
     },
     "execution_count": 77,
     "metadata": {},
     "output_type": "execute_result"
    }
   ],
   "source": [
    "b"
   ]
  },
  {
   "cell_type": "code",
   "execution_count": 81,
   "id": "6e023b91",
   "metadata": {},
   "outputs": [
    {
     "data": {
      "text/plain": [
       "tensor([[[103,  96, 132],\n",
       "         [110, 104, 143],\n",
       "         [117, 112, 154]],\n",
       "\n",
       "        [[171, 144, 189],\n",
       "         [132, 112, 148],\n",
       "         [151, 128, 169]],\n",
       "\n",
       "        [[153, 149, 167],\n",
       "         [152, 152, 168],\n",
       "         [143, 141, 157]],\n",
       "\n",
       "        [[126, 149, 144],\n",
       "         [ 99, 116, 111],\n",
       "         [135, 158, 151]]])"
      ]
     },
     "execution_count": 81,
     "metadata": {},
     "output_type": "execute_result"
    }
   ],
   "source": [
    "a = torch.randint(5, 10, (4, 3, 2))\n",
    "b = torch.randint(8, 12, (3, 2, 4))\n",
    "\n",
    "b = torch.transpose(b, 0, 2) # (4, 2, 3)\n",
    "\n",
    "c = torch.matmul(a, b)\n",
    "c"
   ]
  },
  {
   "cell_type": "code",
   "execution_count": 84,
   "id": "e4bc401f",
   "metadata": {},
   "outputs": [
    {
     "name": "stdout",
     "output_type": "stream",
     "text": [
      "tensor([[[162, 153, 171],\n",
      "         [ 98,  93, 103],\n",
      "         [122, 117, 127]],\n",
      "\n",
      "        [[151, 142, 158],\n",
      "         [162, 154, 171],\n",
      "         [122, 114, 127]],\n",
      "\n",
      "        [[135, 127, 140],\n",
      "         [131, 139, 140],\n",
      "         [144, 138, 150]],\n",
      "\n",
      "        [[138, 135, 129],\n",
      "         [106,  99,  93],\n",
      "         [128, 117, 109]]])\n"
     ]
    }
   ],
   "source": [
    "a = torch.randint(5, 10, (4, 3, 2))\n",
    "b = torch.randint(8, 12, (3, 2, 4))\n",
    "\n",
    "# resulting matrix (4, 3, 3)\n",
    "c = torch.bmm(a, b.transpose(0, 2))\n",
    "print(c)"
   ]
  },
  {
   "cell_type": "code",
   "execution_count": 85,
   "id": "6d53a838",
   "metadata": {},
   "outputs": [
    {
     "data": {
      "text/plain": [
       "torch.Size([4, 3, 3])"
      ]
     },
     "execution_count": 85,
     "metadata": {},
     "output_type": "execute_result"
    }
   ],
   "source": [
    "c.shape"
   ]
  },
  {
   "cell_type": "code",
   "execution_count": 86,
   "id": "1cc118cd",
   "metadata": {},
   "outputs": [
    {
     "ename": "RuntimeError",
     "evalue": "batch1 must be a 3D tensor",
     "output_type": "error",
     "traceback": [
      "\u001b[1;31m---------------------------------------------------------------------------\u001b[0m",
      "\u001b[1;31mRuntimeError\u001b[0m                              Traceback (most recent call last)",
      "Cell \u001b[1;32mIn[86], line 4\u001b[0m\n\u001b[0;32m      1\u001b[0m a \u001b[38;5;241m=\u001b[39m torch\u001b[38;5;241m.\u001b[39mrandint(\u001b[38;5;241m5\u001b[39m, \u001b[38;5;241m10\u001b[39m, (\u001b[38;5;241m4\u001b[39m, \u001b[38;5;241m3\u001b[39m))\n\u001b[0;32m      2\u001b[0m b \u001b[38;5;241m=\u001b[39m torch\u001b[38;5;241m.\u001b[39mrandint(\u001b[38;5;241m8\u001b[39m, \u001b[38;5;241m12\u001b[39m, (\u001b[38;5;241m3\u001b[39m, \u001b[38;5;241m4\u001b[39m))\n\u001b[1;32m----> 4\u001b[0m \u001b[43mtorch\u001b[49m\u001b[38;5;241;43m.\u001b[39;49m\u001b[43mbmm\u001b[49m\u001b[43m(\u001b[49m\u001b[43ma\u001b[49m\u001b[43m,\u001b[49m\u001b[43m \u001b[49m\u001b[43mb\u001b[49m\u001b[43m)\u001b[49m\n",
      "\u001b[1;31mRuntimeError\u001b[0m: batch1 must be a 3D tensor"
     ]
    }
   ],
   "source": [
    "a = torch.randint(5, 10, (4, 3))\n",
    "b = torch.randint(8, 12, (3, 4))\n",
    "\n",
    "torch.bmm(a, b)"
   ]
  },
  {
   "cell_type": "markdown",
   "id": "6a5c8664",
   "metadata": {},
   "source": [
    "## Concatenation and Splitting Tensors"
   ]
  },
  {
   "cell_type": "markdown",
   "id": "bf210643",
   "metadata": {},
   "source": [
    "**Concatenation**"
   ]
  },
  {
   "cell_type": "code",
   "execution_count": 91,
   "id": "f26646d8",
   "metadata": {},
   "outputs": [
    {
     "name": "stdout",
     "output_type": "stream",
     "text": [
      "tensor([[191, 179],\n",
      "        [170, 160],\n",
      "        [156, 147]])\n"
     ]
    }
   ],
   "source": [
    "a = torch.randint(3, 8, (2, 2))\n",
    "b = torch.randint(4, 9, (2, 2))\n",
    "c = torch.randint(6, 10, (3, 4))\n",
    "\n",
    "c1 = torch.cat((a, b), dim=0)\n",
    "# (4, 2)\n",
    "\n",
    "print(torch.matmul(c, c1))"
   ]
  },
  {
   "cell_type": "code",
   "execution_count": 94,
   "id": "a4647284",
   "metadata": {},
   "outputs": [
    {
     "name": "stdout",
     "output_type": "stream",
     "text": [
      "tensor([[ 64, 103, 119,  71],\n",
      "        [ 68, 110, 127,  76],\n",
      "        [ 56,  91, 105,  63],\n",
      "        [ 60,  99, 114,  69],\n",
      "        [ 52,  85,  98,  59],\n",
      "        [ 56,  90, 104,  62]])\n"
     ]
    }
   ],
   "source": [
    "c2 = torch.reshape(c, (6, 2))\n",
    "c3 = torch.cat((a, b), dim=1)\n",
    "# (2, 4)\n",
    "\n",
    "print(torch.matmul(c2, c3))"
   ]
  },
  {
   "cell_type": "markdown",
   "id": "51ded1bc",
   "metadata": {},
   "source": [
    "**Splitting tensors**"
   ]
  },
  {
   "cell_type": "code",
   "execution_count": 108,
   "id": "253c3416",
   "metadata": {},
   "outputs": [
    {
     "name": "stdout",
     "output_type": "stream",
     "text": [
      "torch.Size([2, 3])\n",
      "torch.Size([4, 2])\n",
      "tensor([[ 45,  36,  51,  43],\n",
      "        [ 81,  72, 117,  87],\n",
      "        [ 48,  40,  60,  48]])\n"
     ]
    }
   ],
   "source": [
    "x = torch.randint(3, 10, (4, 3))\n",
    "\n",
    "a1, a2 = torch.split(x, 2, dim=0)\n",
    "b1, b2 = torch.split(x, 2, dim=1)\n",
    "\n",
    "print(a1.shape)\n",
    "print(b1.shape)\n",
    "\n",
    "print(torch.matmul(a1.t(), b1.t()))"
   ]
  },
  {
   "cell_type": "markdown",
   "id": "f7387fa7",
   "metadata": {},
   "source": [
    "**Stacking tensors**"
   ]
  },
  {
   "cell_type": "code",
   "execution_count": 109,
   "id": "229df7c4",
   "metadata": {},
   "outputs": [
    {
     "data": {
      "text/plain": [
       "tensor([[5, 6, 4],\n",
       "        [1, 4, 5],\n",
       "        [3, 2, 1]])"
      ]
     },
     "execution_count": 109,
     "metadata": {},
     "output_type": "execute_result"
    }
   ],
   "source": [
    "x = torch.tensor([5, 6, 4])\n",
    "y = torch.tensor([1, 4, 5])\n",
    "z = torch.tensor([3, 2, 1])\n",
    "\n",
    "torch.stack((x, y, z))"
   ]
  },
  {
   "cell_type": "code",
   "execution_count": 112,
   "id": "987bf334",
   "metadata": {},
   "outputs": [
    {
     "ename": "RuntimeError",
     "evalue": "stack expects each tensor to be equal size, but got [2] at entry 0 and [3] at entry 1",
     "output_type": "error",
     "traceback": [
      "\u001b[1;31m---------------------------------------------------------------------------\u001b[0m",
      "\u001b[1;31mRuntimeError\u001b[0m                              Traceback (most recent call last)",
      "Cell \u001b[1;32mIn[112], line 4\u001b[0m\n\u001b[0;32m      1\u001b[0m a \u001b[38;5;241m=\u001b[39m torch\u001b[38;5;241m.\u001b[39mtensor([\u001b[38;5;241m1\u001b[39m, \u001b[38;5;241m2\u001b[39m])\n\u001b[0;32m      2\u001b[0m b \u001b[38;5;241m=\u001b[39m torch\u001b[38;5;241m.\u001b[39mtensor([\u001b[38;5;241m1\u001b[39m, \u001b[38;5;241m2\u001b[39m, \u001b[38;5;241m3\u001b[39m])\n\u001b[1;32m----> 4\u001b[0m \u001b[43mtorch\u001b[49m\u001b[38;5;241;43m.\u001b[39;49m\u001b[43mstack\u001b[49m\u001b[43m(\u001b[49m\u001b[43m(\u001b[49m\u001b[43ma\u001b[49m\u001b[43m,\u001b[49m\u001b[43m \u001b[49m\u001b[43mb\u001b[49m\u001b[43m)\u001b[49m\u001b[43m)\u001b[49m\n",
      "\u001b[1;31mRuntimeError\u001b[0m: stack expects each tensor to be equal size, but got [2] at entry 0 and [3] at entry 1"
     ]
    }
   ],
   "source": [
    "a = torch.tensor([1, 2])\n",
    "b = torch.tensor([1, 2, 3])\n",
    "\n",
    "torch.stack((a, b))"
   ]
  },
  {
   "cell_type": "markdown",
   "id": "30542141",
   "metadata": {},
   "source": [
    "**Chunking tensors**"
   ]
  },
  {
   "cell_type": "code",
   "execution_count": 113,
   "id": "b40832f7",
   "metadata": {},
   "outputs": [
    {
     "name": "stdout",
     "output_type": "stream",
     "text": [
      "tensor([[8],\n",
      "        [9],\n",
      "        [8],\n",
      "        [3]])\n",
      "tensor([[9],\n",
      "        [9],\n",
      "        [8],\n",
      "        [4]])\n",
      "tensor([[6],\n",
      "        [6],\n",
      "        [5],\n",
      "        [8]])\n"
     ]
    }
   ],
   "source": [
    "x = torch.randint(3, 10, (4, 3))\n",
    "\n",
    "z1, z2, z3 = torch.chunk(x, 3, dim=1)\n",
    "\n",
    "print(z1)\n",
    "print(z2)\n",
    "print(z3)"
   ]
  },
  {
   "cell_type": "code",
   "execution_count": 114,
   "id": "0fa122b1",
   "metadata": {},
   "outputs": [
    {
     "data": {
      "text/plain": [
       "tensor([[8, 9, 6],\n",
       "        [9, 9, 6],\n",
       "        [8, 8, 5],\n",
       "        [3, 4, 8]])"
      ]
     },
     "execution_count": 114,
     "metadata": {},
     "output_type": "execute_result"
    }
   ],
   "source": [
    "x"
   ]
  },
  {
   "cell_type": "code",
   "execution_count": 115,
   "id": "16578a17",
   "metadata": {},
   "outputs": [
    {
     "name": "stdout",
     "output_type": "stream",
     "text": [
      "tensor([[8, 9, 6]])\n",
      "tensor([[9, 9, 6]])\n",
      "tensor([[8, 8, 5]])\n",
      "tensor([[3, 4, 8]])\n"
     ]
    }
   ],
   "source": [
    "z1, z2, z3, z4 = torch.chunk(x, 4, dim=0)\n",
    "\n",
    "print(z1)\n",
    "print(z2)\n",
    "print(z3)\n",
    "print(z4)"
   ]
  },
  {
   "cell_type": "code",
   "execution_count": null,
   "id": "81c3dd2a",
   "metadata": {},
   "outputs": [],
   "source": []
  }
 ],
 "metadata": {
  "kernelspec": {
   "display_name": "tensor_env",
   "language": "python",
   "name": "tensor_env"
  },
  "language_info": {
   "codemirror_mode": {
    "name": "ipython",
    "version": 3
   },
   "file_extension": ".py",
   "mimetype": "text/x-python",
   "name": "python",
   "nbconvert_exporter": "python",
   "pygments_lexer": "ipython3",
   "version": "3.10.7"
  }
 },
 "nbformat": 4,
 "nbformat_minor": 5
}
